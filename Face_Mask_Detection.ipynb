{
  "cells": [
    {
      "cell_type": "code",
      "execution_count": null,
      "metadata": {
        "id": "vQn-lyyq2qcw"
      },
      "outputs": [],
      "source": [
        "from tensorflow.keras.optimizers import RMSprop\n",
        "from keras.preprocessing.image import ImageDataGenerator\n",
        "import cv2\n",
        "from keras.models import Sequential\n",
        "from keras.layers import Conv2D, Input, ZeroPadding2D, BatchNormalization, Activation, MaxPooling2D, Flatten, Dense,Dropout\n",
        "from keras.models import Model, load_model\n",
        "from keras.callbacks import TensorBoard, ModelCheckpoint\n",
        "from sklearn.model_selection import train_test_split\n",
        "from sklearn.metrics import f1_score\n",
        "from sklearn.utils import shuffle\n",
        "import imutils\n",
        "import numpy as np"
      ]
    },
    {
      "cell_type": "code",
      "execution_count": null,
      "metadata": {
        "id": "DOpZXXYL27FN"
      },
      "outputs": [],
      "source": [
        "model =Sequential([\n",
        "    Conv2D(100, (3,3), activation='relu', input_shape=(150, 150, 3)),\n",
        "    MaxPooling2D(2,2),\n",
        "    \n",
        "    Conv2D(100, (3,3), activation='relu'),\n",
        "    MaxPooling2D(2,2),\n",
        "    \n",
        "    Flatten(),\n",
        "    Dropout(0.5),\n",
        "    Dense(50, activation='relu'),\n",
        "    Dense(2, activation='softmax')\n",
        "])"
      ]
    },
    {
      "cell_type": "code",
      "execution_count": null,
      "metadata": {
        "id": "IZJN0T_W29F1"
      },
      "outputs": [],
      "source": [
        "model.compile(optimizer='adam', loss='binary_crossentropy', metrics=['acc'])"
      ]
    },
    {
      "cell_type": "code",
      "execution_count": null,
      "metadata": {
        "id": "AhrTMA2m2_sF"
      },
      "outputs": [],
      "source": [
        "TRAINING_DIR = \"./train\"\n",
        "train_datagen = ImageDataGenerator(rescale=1.0/255,\n",
        "                                   rotation_range=40,\n",
        "                                   width_shift_range=0.2,\n",
        "                                   height_shift_range=0.2,\n",
        "                                   shear_range=0.2,\n",
        "                                   zoom_range=0.2,\n",
        "                                   horizontal_flip=True,\n",
        "                                   fill_mode='nearest')\n"
      ]
    },
    {
      "cell_type": "code",
      "execution_count": null,
      "metadata": {
        "colab": {
          "base_uri": "https://localhost:8080/"
        },
        "id": "xIOMJx4J3Ipc",
        "outputId": "ce7d4487-a380-4222-ac8f-d45c8f0eb524"
      },
      "outputs": [
        {
          "name": "stdout",
          "output_type": "stream",
          "text": [
            "Found 1315 images belonging to 2 classes.\n"
          ]
        }
      ],
      "source": [
        "train_generator = train_datagen.flow_from_directory(TRAINING_DIR, \n",
        "                                                    batch_size=10, \n",
        "                                                    target_size=(150, 150))"
      ]
    },
    {
      "cell_type": "code",
      "execution_count": null,
      "metadata": {
        "colab": {
          "base_uri": "https://localhost:8080/"
        },
        "id": "tU8gAPNg2tF2",
        "outputId": "96b036cd-e1b7-4a94-8612-e4d08b9c10a5"
      },
      "outputs": [
        {
          "name": "stdout",
          "output_type": "stream",
          "text": [
            "Found 194 images belonging to 2 classes.\n"
          ]
        },
        {
          "name": "stderr",
          "output_type": "stream",
          "text": [
            "/usr/local/lib/python3.7/dist-packages/ipykernel_launcher.py:13: UserWarning: `Model.fit_generator` is deprecated and will be removed in a future version. Please use `Model.fit`, which supports generators.\n",
            "  del sys.path[0]\n"
          ]
        },
        {
          "name": "stdout",
          "output_type": "stream",
          "text": [
            "Epoch 1/10\n",
            "132/132 [==============================] - ETA: 0s - loss: 0.5708 - acc: 0.7027INFO:tensorflow:Assets written to: model2-001.model/assets\n",
            "132/132 [==============================] - 155s 1s/step - loss: 0.5708 - acc: 0.7027 - val_loss: 0.4029 - val_acc: 0.8454\n",
            "Epoch 2/10\n",
            "132/132 [==============================] - ETA: 0s - loss: 0.3717 - acc: 0.8593INFO:tensorflow:Assets written to: model2-002.model/assets\n",
            "132/132 [==============================] - 153s 1s/step - loss: 0.3717 - acc: 0.8593 - val_loss: 0.1705 - val_acc: 0.9433\n",
            "Epoch 3/10\n",
            "132/132 [==============================] - ETA: 0s - loss: 0.2950 - acc: 0.8875INFO:tensorflow:Assets written to: model2-003.model/assets\n",
            "132/132 [==============================] - 153s 1s/step - loss: 0.2950 - acc: 0.8875 - val_loss: 0.1425 - val_acc: 0.9485\n",
            "Epoch 4/10\n",
            "132/132 [==============================] - ETA: 0s - loss: 0.2821 - acc: 0.8882INFO:tensorflow:Assets written to: model2-004.model/assets\n",
            "132/132 [==============================] - 153s 1s/step - loss: 0.2821 - acc: 0.8882 - val_loss: 0.0945 - val_acc: 0.9742\n",
            "Epoch 5/10\n",
            "132/132 [==============================] - 154s 1s/step - loss: 0.2836 - acc: 0.8875 - val_loss: 0.2064 - val_acc: 0.9124\n",
            "Epoch 6/10\n",
            "132/132 [==============================] - ETA: 0s - loss: 0.2532 - acc: 0.9049INFO:tensorflow:Assets written to: model2-006.model/assets\n",
            "132/132 [==============================] - 155s 1s/step - loss: 0.2532 - acc: 0.9049 - val_loss: 0.0732 - val_acc: 0.9742\n",
            "Epoch 7/10\n",
            "132/132 [==============================] - ETA: 0s - loss: 0.2278 - acc: 0.9118INFO:tensorflow:Assets written to: model2-007.model/assets\n",
            "132/132 [==============================] - 155s 1s/step - loss: 0.2278 - acc: 0.9118 - val_loss: 0.0594 - val_acc: 0.9794\n",
            "Epoch 8/10\n",
            "132/132 [==============================] - ETA: 0s - loss: 0.2058 - acc: 0.9285INFO:tensorflow:Assets written to: model2-008.model/assets\n",
            "132/132 [==============================] - 155s 1s/step - loss: 0.2058 - acc: 0.9285 - val_loss: 0.0548 - val_acc: 0.9742\n",
            "Epoch 9/10\n",
            "132/132 [==============================] - 154s 1s/step - loss: 0.2360 - acc: 0.9141 - val_loss: 0.1089 - val_acc: 0.9588\n",
            "Epoch 10/10\n",
            "132/132 [==============================] - ETA: 0s - loss: 0.1915 - acc: 0.9262INFO:tensorflow:Assets written to: model2-010.model/assets\n",
            "132/132 [==============================] - 157s 1s/step - loss: 0.1915 - acc: 0.9262 - val_loss: 0.0512 - val_acc: 0.9897\n"
          ]
        }
      ],
      "source": [
        "VALIDATION_DIR = \"./test\"\n",
        "validation_datagen = ImageDataGenerator(rescale=1.0/255)\n",
        "\n",
        "validation_generator = validation_datagen.flow_from_directory(VALIDATION_DIR, \n",
        "                                                         batch_size=10, \n",
        "                                                         target_size=(150, 150))\n",
        "checkpoint = ModelCheckpoint('model2-{epoch:03d}.model',monitor='val_loss',verbose=0,save_best_only=True,mode='auto')\n",
        "\n",
        "\n",
        "history = model.fit_generator(train_generator,\n",
        "                              epochs=10,\n",
        "                              validation_data=validation_generator,\n",
        "                              callbacks=[checkpoint])"
      ]
    },
    {
      "cell_type": "code",
      "execution_count": null,
      "metadata": {
        "colab": {
          "base_uri": "https://localhost:8080/"
        },
        "id": "aFa_knZuZXTf",
        "outputId": "4c9f0221-bad4-406f-dcc2-2ab68ba1dde4"
      },
      "outputs": [
        {
          "name": "stdout",
          "output_type": "stream",
          "text": [
            "INFO:tensorflow:Assets written to: ./assets\n"
          ]
        }
      ],
      "source": [
        "model.save(\"./\")"
      ]
    }
  ],
  "metadata": {
    "colab": {
      "name": "Face Mask Detection.ipynb",
      "provenance": []
    },
    "kernelspec": {
      "display_name": "Python 3",
      "name": "python3"
    },
    "language_info": {
      "name": "python"
    }
  },
  "nbformat": 4,
  "nbformat_minor": 0
}
